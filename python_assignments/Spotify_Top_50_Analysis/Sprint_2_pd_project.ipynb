{
 "cells": [
  {
   "cell_type": "markdown",
   "id": "79b9be25",
   "metadata": {},
   "source": [
    "# Spotify Top 50 exploration \n",
    "\n",
    "This notebook analyzes the features of the most popular tracks on Spotify and the artists behind them. We explore characteristics such as loudness, danceability, and duration of tracks and the relations between them.\n"
   ]
  },
  {
   "cell_type": "code",
   "execution_count": 375,
   "id": "b162105b",
   "metadata": {},
   "outputs": [],
   "source": [
    "import pandas as pd\n",
    "import matplotlib.pyplot as plt\n",
    "import numpy as np\n",
    "import seaborn as sns\n",
    "\n",
    "%matplotlib inline\n",
    "# pd.set_option('display.max_rows', None)"
   ]
  },
  {
   "cell_type": "code",
   "execution_count": 376,
   "id": "3fa8ed69",
   "metadata": {},
   "outputs": [
    {
     "data": {
      "text/html": [
       "<div>\n",
       "<style scoped>\n",
       "    .dataframe tbody tr th:only-of-type {\n",
       "        vertical-align: middle;\n",
       "    }\n",
       "\n",
       "    .dataframe tbody tr th {\n",
       "        vertical-align: top;\n",
       "    }\n",
       "\n",
       "    .dataframe thead th {\n",
       "        text-align: right;\n",
       "    }\n",
       "</style>\n",
       "<table border=\"1\" class=\"dataframe\">\n",
       "  <thead>\n",
       "    <tr style=\"text-align: right;\">\n",
       "      <th></th>\n",
       "      <th>rank</th>\n",
       "      <th>artist</th>\n",
       "      <th>album</th>\n",
       "      <th>track_name</th>\n",
       "      <th>track_id</th>\n",
       "      <th>energy</th>\n",
       "      <th>danceability</th>\n",
       "      <th>key</th>\n",
       "      <th>loudness</th>\n",
       "      <th>acousticness</th>\n",
       "      <th>speechiness</th>\n",
       "      <th>instrumentalness</th>\n",
       "      <th>liveness</th>\n",
       "      <th>valence</th>\n",
       "      <th>tempo</th>\n",
       "      <th>duration_ms</th>\n",
       "      <th>genre</th>\n",
       "    </tr>\n",
       "  </thead>\n",
       "  <tbody>\n",
       "    <tr>\n",
       "      <th>0</th>\n",
       "      <td>1</td>\n",
       "      <td>The Weeknd</td>\n",
       "      <td>After Hours</td>\n",
       "      <td>Blinding Lights</td>\n",
       "      <td>0VjIjW4GlUZAMYd2vXMi3b</td>\n",
       "      <td>0.730</td>\n",
       "      <td>0.514</td>\n",
       "      <td>1</td>\n",
       "      <td>-5.934</td>\n",
       "      <td>0.00146</td>\n",
       "      <td>0.0598</td>\n",
       "      <td>0.000095</td>\n",
       "      <td>0.0897</td>\n",
       "      <td>0.334</td>\n",
       "      <td>171.005</td>\n",
       "      <td>200040</td>\n",
       "      <td>R&amp;B/Soul</td>\n",
       "    </tr>\n",
       "    <tr>\n",
       "      <th>1</th>\n",
       "      <td>2</td>\n",
       "      <td>Tones And I</td>\n",
       "      <td>Dance Monkey</td>\n",
       "      <td>Dance Monkey</td>\n",
       "      <td>1rgnBhdG2JDFTbYkYRZAku</td>\n",
       "      <td>0.593</td>\n",
       "      <td>0.825</td>\n",
       "      <td>6</td>\n",
       "      <td>-6.401</td>\n",
       "      <td>0.68800</td>\n",
       "      <td>0.0988</td>\n",
       "      <td>0.000161</td>\n",
       "      <td>0.1700</td>\n",
       "      <td>0.540</td>\n",
       "      <td>98.078</td>\n",
       "      <td>209755</td>\n",
       "      <td>Alternative/Indie</td>\n",
       "    </tr>\n",
       "    <tr>\n",
       "      <th>2</th>\n",
       "      <td>3</td>\n",
       "      <td>Roddy Ricch</td>\n",
       "      <td>Please Excuse Me For Being Antisocial</td>\n",
       "      <td>The Box</td>\n",
       "      <td>0nbXyq5TXYPCO7pr3N8S4I</td>\n",
       "      <td>0.586</td>\n",
       "      <td>0.896</td>\n",
       "      <td>10</td>\n",
       "      <td>-6.687</td>\n",
       "      <td>0.10400</td>\n",
       "      <td>0.0559</td>\n",
       "      <td>0.000000</td>\n",
       "      <td>0.7900</td>\n",
       "      <td>0.642</td>\n",
       "      <td>116.971</td>\n",
       "      <td>196653</td>\n",
       "      <td>Hip-Hop/Rap</td>\n",
       "    </tr>\n",
       "  </tbody>\n",
       "</table>\n",
       "</div>"
      ],
      "text/plain": [
       "   rank       artist                                  album       track_name  \\\n",
       "0     1   The Weeknd                            After Hours  Blinding Lights   \n",
       "1     2  Tones And I                           Dance Monkey     Dance Monkey   \n",
       "2     3  Roddy Ricch  Please Excuse Me For Being Antisocial          The Box   \n",
       "\n",
       "                 track_id  energy  danceability  key  loudness  acousticness  \\\n",
       "0  0VjIjW4GlUZAMYd2vXMi3b   0.730         0.514    1    -5.934       0.00146   \n",
       "1  1rgnBhdG2JDFTbYkYRZAku   0.593         0.825    6    -6.401       0.68800   \n",
       "2  0nbXyq5TXYPCO7pr3N8S4I   0.586         0.896   10    -6.687       0.10400   \n",
       "\n",
       "   speechiness  instrumentalness  liveness  valence    tempo  duration_ms  \\\n",
       "0       0.0598          0.000095    0.0897    0.334  171.005       200040   \n",
       "1       0.0988          0.000161    0.1700    0.540   98.078       209755   \n",
       "2       0.0559          0.000000    0.7900    0.642  116.971       196653   \n",
       "\n",
       "               genre  \n",
       "0           R&B/Soul  \n",
       "1  Alternative/Indie  \n",
       "2        Hip-Hop/Rap  "
      ]
     },
     "execution_count": 376,
     "metadata": {},
     "output_type": "execute_result"
    }
   ],
   "source": [
    "path = \"data/spotifytoptracks.csv\"\n",
    "\n",
    "spotify = pd.read_csv(path)\n",
    "\n",
    "# Instead of making it into the index,\n",
    "# we'll replace the unnamed column for a rank column for calculations.\n",
    "\n",
    "spotify.rename(columns={\"Unnamed: 0\": \"rank\"}, inplace=True)\n",
    "\n",
    "spotify[\"rank\"] += 1\n",
    "\n",
    "spotify.head(3)"
   ]
  },
  {
   "cell_type": "code",
   "execution_count": 377,
   "id": "9d95108b",
   "metadata": {},
   "outputs": [
    {
     "data": {
      "text/html": [
       "<div>\n",
       "<style scoped>\n",
       "    .dataframe tbody tr th:only-of-type {\n",
       "        vertical-align: middle;\n",
       "    }\n",
       "\n",
       "    .dataframe tbody tr th {\n",
       "        vertical-align: top;\n",
       "    }\n",
       "\n",
       "    .dataframe thead th {\n",
       "        text-align: right;\n",
       "    }\n",
       "</style>\n",
       "<table border=\"1\" class=\"dataframe\">\n",
       "  <thead>\n",
       "    <tr style=\"text-align: right;\">\n",
       "      <th></th>\n",
       "      <th>rank</th>\n",
       "      <th>artist</th>\n",
       "      <th>album</th>\n",
       "      <th>track_name</th>\n",
       "      <th>track_id</th>\n",
       "      <th>energy</th>\n",
       "      <th>danceability</th>\n",
       "      <th>key</th>\n",
       "      <th>loudness</th>\n",
       "      <th>acousticness</th>\n",
       "      <th>speechiness</th>\n",
       "      <th>instrumentalness</th>\n",
       "      <th>liveness</th>\n",
       "      <th>valence</th>\n",
       "      <th>tempo</th>\n",
       "      <th>duration_ms</th>\n",
       "      <th>genre</th>\n",
       "      <th>duration_time</th>\n",
       "    </tr>\n",
       "  </thead>\n",
       "  <tbody>\n",
       "    <tr>\n",
       "      <th>0</th>\n",
       "      <td>1</td>\n",
       "      <td>The Weeknd</td>\n",
       "      <td>After Hours</td>\n",
       "      <td>Blinding Lights</td>\n",
       "      <td>0VjIjW4GlUZAMYd2vXMi3b</td>\n",
       "      <td>0.730</td>\n",
       "      <td>0.514</td>\n",
       "      <td>1</td>\n",
       "      <td>-5.934</td>\n",
       "      <td>0.00146</td>\n",
       "      <td>0.0598</td>\n",
       "      <td>0.000095</td>\n",
       "      <td>0.0897</td>\n",
       "      <td>0.334</td>\n",
       "      <td>171.005</td>\n",
       "      <td>200040</td>\n",
       "      <td>R&amp;B/Soul</td>\n",
       "      <td>03:20</td>\n",
       "    </tr>\n",
       "    <tr>\n",
       "      <th>1</th>\n",
       "      <td>2</td>\n",
       "      <td>Tones And I</td>\n",
       "      <td>Dance Monkey</td>\n",
       "      <td>Dance Monkey</td>\n",
       "      <td>1rgnBhdG2JDFTbYkYRZAku</td>\n",
       "      <td>0.593</td>\n",
       "      <td>0.825</td>\n",
       "      <td>6</td>\n",
       "      <td>-6.401</td>\n",
       "      <td>0.68800</td>\n",
       "      <td>0.0988</td>\n",
       "      <td>0.000161</td>\n",
       "      <td>0.1700</td>\n",
       "      <td>0.540</td>\n",
       "      <td>98.078</td>\n",
       "      <td>209755</td>\n",
       "      <td>Alternative/Indie</td>\n",
       "      <td>03:29</td>\n",
       "    </tr>\n",
       "    <tr>\n",
       "      <th>2</th>\n",
       "      <td>3</td>\n",
       "      <td>Roddy Ricch</td>\n",
       "      <td>Please Excuse Me For Being Antisocial</td>\n",
       "      <td>The Box</td>\n",
       "      <td>0nbXyq5TXYPCO7pr3N8S4I</td>\n",
       "      <td>0.586</td>\n",
       "      <td>0.896</td>\n",
       "      <td>10</td>\n",
       "      <td>-6.687</td>\n",
       "      <td>0.10400</td>\n",
       "      <td>0.0559</td>\n",
       "      <td>0.000000</td>\n",
       "      <td>0.7900</td>\n",
       "      <td>0.642</td>\n",
       "      <td>116.971</td>\n",
       "      <td>196653</td>\n",
       "      <td>Hip-Hop/Rap</td>\n",
       "      <td>03:16</td>\n",
       "    </tr>\n",
       "  </tbody>\n",
       "</table>\n",
       "</div>"
      ],
      "text/plain": [
       "   rank       artist                                  album       track_name  \\\n",
       "0     1   The Weeknd                            After Hours  Blinding Lights   \n",
       "1     2  Tones And I                           Dance Monkey     Dance Monkey   \n",
       "2     3  Roddy Ricch  Please Excuse Me For Being Antisocial          The Box   \n",
       "\n",
       "                 track_id  energy  danceability  key  loudness  acousticness  \\\n",
       "0  0VjIjW4GlUZAMYd2vXMi3b   0.730         0.514    1    -5.934       0.00146   \n",
       "1  1rgnBhdG2JDFTbYkYRZAku   0.593         0.825    6    -6.401       0.68800   \n",
       "2  0nbXyq5TXYPCO7pr3N8S4I   0.586         0.896   10    -6.687       0.10400   \n",
       "\n",
       "   speechiness  instrumentalness  liveness  valence    tempo  duration_ms  \\\n",
       "0       0.0598          0.000095    0.0897    0.334  171.005       200040   \n",
       "1       0.0988          0.000161    0.1700    0.540   98.078       209755   \n",
       "2       0.0559          0.000000    0.7900    0.642  116.971       196653   \n",
       "\n",
       "               genre duration_time  \n",
       "0           R&B/Soul         03:20  \n",
       "1  Alternative/Indie         03:29  \n",
       "2        Hip-Hop/Rap         03:16  "
      ]
     },
     "execution_count": 377,
     "metadata": {},
     "output_type": "execute_result"
    }
   ],
   "source": [
    "# Converting duration from ms to 'minutes:seconds' for easier interpretation.\n",
    "\n",
    "spotify[\"duration_time\"] = pd.to_datetime(spotify[\"duration_ms\"], unit=\"ms\")\n",
    "\n",
    "spotify[\"duration_time\"] = spotify[\"duration_time\"].dt.strftime(\"%M:%S\")\n",
    "\n",
    "spotify.head(3)"
   ]
  },
  {
   "cell_type": "code",
   "execution_count": 378,
   "id": "671a3729",
   "metadata": {},
   "outputs": [],
   "source": [
    "def print_function(title: str, data, newline=False, end_space=False):\n",
    "    \"\"\"\n",
    "    Prints the provided data with a title. \n",
    "    Supports pandas DataFrame, Series, and other data types.\n",
    "\n",
    "    Parameters:\n",
    "        title (str): The title to the printed data.\n",
    "        data: The data to be printed, can be of any type.\n",
    "        newline(bool, optional): Adds a newline after the title if True. \n",
    "        Defaults to False.\n",
    "        end_space (bool, optional): Prints an extra newline at the end. \n",
    "        Defaults to False.\n",
    "    Returns:\n",
    "        None\n",
    "    \"\"\"\n",
    "    title_suffix = \"\\n\\n\" if newline else \"\"\n",
    "\n",
    "    if isinstance(data, (pd.DataFrame, pd.Series)):\n",
    "        print(\n",
    "            f\"- {title}:{title_suffix}\", data.to_string(header=False)\n",
    "        )  # Use to_string for pandas types without headers\n",
    "    else:\n",
    "        print(\n",
    "            f\"- {title}:{title_suffix}\", data\n",
    "        )  # This will handle other data types by using the default print.\n",
    "\n",
    "    if end_space:\n",
    "        print(\"\\n\")"
   ]
  },
  {
   "cell_type": "markdown",
   "id": "7d9f2475",
   "metadata": {},
   "source": [
    "## 1. Handling missing and duplicate values."
   ]
  },
  {
   "cell_type": "code",
   "execution_count": 379,
   "id": "dca0930f",
   "metadata": {},
   "outputs": [
    {
     "name": "stdout",
     "output_type": "stream",
     "text": [
      "- Are there any missing values?: False\n",
      "- There are no duplicates\n"
     ]
    }
   ],
   "source": [
    "# Handling missing values.\n",
    "\n",
    "print_function(\"Are there any missing values?\", spotify.isnull().any().any())\n",
    "\n",
    "# Removing duplicate samples and features.\n",
    "\n",
    "if spotify.duplicated().any():\n",
    "    print(\"Removing duplicates...\")\n",
    "    spotify.drop_duplicates(inplace=True)\n",
    "else:\n",
    "    print(\"- There are no duplicates\")"
   ]
  },
  {
   "cell_type": "markdown",
   "id": "b9b5c2a6",
   "metadata": {},
   "source": [
    "## 2. Outlier Detection\n",
    "\n",
    "Below we calculate the Interquartile Range (IQR) to identify outliers in the dataset. Outliers can skew the results of certain variables in our data, so it is important to detect them."
   ]
  },
  {
   "cell_type": "code",
   "execution_count": 380,
   "id": "203fdd7f",
   "metadata": {},
   "outputs": [
    {
     "data": {
      "text/html": [
       "<div>\n",
       "<style scoped>\n",
       "    .dataframe tbody tr th:only-of-type {\n",
       "        vertical-align: middle;\n",
       "    }\n",
       "\n",
       "    .dataframe tbody tr th {\n",
       "        vertical-align: top;\n",
       "    }\n",
       "\n",
       "    .dataframe thead th {\n",
       "        text-align: right;\n",
       "    }\n",
       "</style>\n",
       "<table border=\"1\" class=\"dataframe\">\n",
       "  <thead>\n",
       "    <tr style=\"text-align: right;\">\n",
       "      <th></th>\n",
       "      <th>track_name</th>\n",
       "      <th>rank</th>\n",
       "      <th>energy</th>\n",
       "      <th>danceability</th>\n",
       "      <th>key</th>\n",
       "      <th>loudness</th>\n",
       "      <th>acousticness</th>\n",
       "      <th>speechiness</th>\n",
       "      <th>instrumentalness</th>\n",
       "      <th>liveness</th>\n",
       "      <th>valence</th>\n",
       "      <th>tempo</th>\n",
       "      <th>duration_ms</th>\n",
       "    </tr>\n",
       "  </thead>\n",
       "  <tbody>\n",
       "    <tr>\n",
       "      <th>0</th>\n",
       "      <td>Blinding Lights</td>\n",
       "      <td>NaN</td>\n",
       "      <td>NaN</td>\n",
       "      <td>NaN</td>\n",
       "      <td>NaN</td>\n",
       "      <td>NaN</td>\n",
       "      <td>NaN</td>\n",
       "      <td>NaN</td>\n",
       "      <td>0.000095</td>\n",
       "      <td>NaN</td>\n",
       "      <td>NaN</td>\n",
       "      <td>NaN</td>\n",
       "      <td>NaN</td>\n",
       "    </tr>\n",
       "    <tr>\n",
       "      <th>1</th>\n",
       "      <td>Dance Monkey</td>\n",
       "      <td>NaN</td>\n",
       "      <td>NaN</td>\n",
       "      <td>NaN</td>\n",
       "      <td>NaN</td>\n",
       "      <td>NaN</td>\n",
       "      <td>0.688</td>\n",
       "      <td>NaN</td>\n",
       "      <td>0.000161</td>\n",
       "      <td>NaN</td>\n",
       "      <td>NaN</td>\n",
       "      <td>NaN</td>\n",
       "      <td>NaN</td>\n",
       "    </tr>\n",
       "    <tr>\n",
       "      <th>2</th>\n",
       "      <td>The Box</td>\n",
       "      <td>NaN</td>\n",
       "      <td>NaN</td>\n",
       "      <td>NaN</td>\n",
       "      <td>NaN</td>\n",
       "      <td>NaN</td>\n",
       "      <td>NaN</td>\n",
       "      <td>NaN</td>\n",
       "      <td>NaN</td>\n",
       "      <td>0.79</td>\n",
       "      <td>NaN</td>\n",
       "      <td>NaN</td>\n",
       "      <td>NaN</td>\n",
       "    </tr>\n",
       "  </tbody>\n",
       "</table>\n",
       "</div>"
      ],
      "text/plain": [
       "        track_name  rank  energy  danceability  key  loudness  acousticness  \\\n",
       "0  Blinding Lights   NaN     NaN           NaN  NaN       NaN           NaN   \n",
       "1     Dance Monkey   NaN     NaN           NaN  NaN       NaN         0.688   \n",
       "2          The Box   NaN     NaN           NaN  NaN       NaN           NaN   \n",
       "\n",
       "   speechiness  instrumentalness  liveness  valence  tempo  duration_ms  \n",
       "0          NaN          0.000095       NaN      NaN    NaN          NaN  \n",
       "1          NaN          0.000161       NaN      NaN    NaN          NaN  \n",
       "2          NaN               NaN      0.79      NaN    NaN          NaN  "
      ]
     },
     "execution_count": 380,
     "metadata": {},
     "output_type": "execute_result"
    }
   ],
   "source": [
    "# Define a mask with numerical values, as that is the type to find outliers.\n",
    "\n",
    "numeric_vars_mask = ~(spotify.dtypes == \"object\")\n",
    "\n",
    "numeric_vars_mask\n",
    "\n",
    "# Generate a new dataframe with just numeric values to perform outlier detection.\n",
    "\n",
    "numeric_df = spotify[spotify.dtypes[numeric_vars_mask].index]\n",
    "\n",
    "# Interquartile range: diference between the last and first quartiles.\n",
    "\n",
    "Q1 = numeric_df.quantile(0.25)\n",
    "Q3 = numeric_df.quantile(0.75)\n",
    "IQR = Q3 - Q1\n",
    "\n",
    "# Define outliers as those above 1.5 times the IQR and make a dataframe out of it.\n",
    "\n",
    "outliers = numeric_df[\n",
    "    (numeric_df < (Q1 - 1.5 * IQR)) | (numeric_df > (Q3 + 1.5 * IQR))\n",
    "]\n",
    "\n",
    "# Merge the dataframe with a the column of the track names for readability.\n",
    "\n",
    "outliers_df = spotify[[\"track_name\"]].merge(\n",
    "    outliers, left_index=True, right_index=True\n",
    ")\n",
    "\n",
    "outliers_df.head(3)"
   ]
  },
  {
   "cell_type": "code",
   "execution_count": 381,
   "id": "a6261483",
   "metadata": {},
   "outputs": [
    {
     "name": "stdout",
     "output_type": "stream",
     "text": [
      "- Outliers in rank: 0\n",
      "- Outliers in energy: 0\n",
      "- Outliers in danceability: 3\n",
      "- Outliers in key: 0\n",
      "- Outliers in loudness: 1\n",
      "- Outliers in acousticness: 7\n",
      "- Outliers in speechiness: 6\n",
      "- Outliers in instrumentalness: 12\n",
      "- Outliers in liveness: 3\n",
      "- Outliers in valence: 0\n",
      "- Outliers in tempo: 0\n",
      "- Outliers in duration_ms: 2\n"
     ]
    }
   ],
   "source": [
    "for i in range(1, outliers_df.shape[1]):\n",
    "    feature = outliers_df.columns[i]\n",
    "    outlier_count = outliers_df.iloc[:, i].notnull().sum()\n",
    "    print_function(f\"Outliers in {feature}\", outlier_count)"
   ]
  },
  {
   "cell_type": "markdown",
   "id": "b941a1fc",
   "metadata": {},
   "source": [
    "## 3. Observations and features"
   ]
  },
  {
   "cell_type": "markdown",
   "id": "5190e657",
   "metadata": {},
   "source": [
    "#### How many observations are there in this dataset?"
   ]
  },
  {
   "cell_type": "code",
   "execution_count": 382,
   "id": "45fe27af",
   "metadata": {},
   "outputs": [
    {
     "name": "stdout",
     "output_type": "stream",
     "text": [
      "- Number of observations in dataset: 50\n"
     ]
    }
   ],
   "source": [
    "print_function(\"Number of observations in dataset\", spotify.shape[0])"
   ]
  },
  {
   "cell_type": "markdown",
   "id": "9de286c2",
   "metadata": {},
   "source": [
    "#### How many features are there in this dataset?"
   ]
  },
  {
   "cell_type": "code",
   "execution_count": 383,
   "id": "13583bb2",
   "metadata": {},
   "outputs": [
    {
     "name": "stdout",
     "output_type": "stream",
     "text": [
      "- Number of features in dataset: 18\n"
     ]
    }
   ],
   "source": [
    "print_function(\"Number of features in dataset\", spotify.shape[1])"
   ]
  },
  {
   "cell_type": "markdown",
   "id": "a197d131",
   "metadata": {},
   "source": [
    "#### Which of the features are categorical?"
   ]
  },
  {
   "cell_type": "code",
   "execution_count": 384,
   "id": "5142b8c7",
   "metadata": {},
   "outputs": [
    {
     "name": "stdout",
     "output_type": "stream",
     "text": [
      "- Categorical features:\n",
      "\n",
      " artist           object\n",
      "album            object\n",
      "track_name       object\n",
      "track_id         object\n",
      "genre            object\n",
      "duration_time    object\n"
     ]
    }
   ],
   "source": [
    "print_function(\n",
    "    \"Categorical features\", spotify.dtypes[~numeric_vars_mask], newline=True\n",
    ")"
   ]
  },
  {
   "cell_type": "markdown",
   "id": "f0d59862",
   "metadata": {},
   "source": [
    "#### Which of the features are numeric?"
   ]
  },
  {
   "cell_type": "code",
   "execution_count": 385,
   "id": "36834664",
   "metadata": {},
   "outputs": [
    {
     "name": "stdout",
     "output_type": "stream",
     "text": [
      "- Numeric features:\n",
      "\n",
      " rank                  int64\n",
      "energy              float64\n",
      "danceability        float64\n",
      "key                   int64\n",
      "loudness            float64\n",
      "acousticness        float64\n",
      "speechiness         float64\n",
      "instrumentalness    float64\n",
      "liveness            float64\n",
      "valence             float64\n",
      "tempo               float64\n",
      "duration_ms           int64\n"
     ]
    }
   ],
   "source": [
    "print_function(\n",
    "    \"Numeric features\", spotify.dtypes[numeric_vars_mask], newline=True\n",
    ")"
   ]
  },
  {
   "cell_type": "markdown",
   "id": "3f66d0c1",
   "metadata": {},
   "source": [
    "## 4. Artists' popularity"
   ]
  },
  {
   "cell_type": "markdown",
   "id": "03948c7b",
   "metadata": {},
   "source": [
    "#### Are there any artists that have more than 1 popular track? If yes, which and how many?"
   ]
  },
  {
   "cell_type": "code",
   "execution_count": 386,
   "id": "ee663109",
   "metadata": {},
   "outputs": [
    {
     "name": "stdout",
     "output_type": "stream",
     "text": [
      "- Artists with more than 1 hit:\n",
      "\n",
      " Billie Eilish    3\n",
      "Dua Lipa         3\n",
      "Travis Scott     3\n",
      "Harry Styles     2\n",
      "Justin Bieber    2\n",
      "Lewis Capaldi    2\n",
      "Post Malone      2\n"
     ]
    }
   ],
   "source": [
    "# First, we make a Series for the number of hits an artist has\n",
    "\n",
    "artist_hits = spotify.groupby(\"artist\").size()\n",
    "\n",
    "print_function(\n",
    "    \"Artists with more than 1 hit\",\n",
    "    spotify.groupby(\"artist\")\n",
    "    .size()[artist_hits > 1]\n",
    "    .sort_values(ascending=False),\n",
    "    newline=True,\n",
    ")"
   ]
  },
  {
   "cell_type": "markdown",
   "id": "7596937c",
   "metadata": {},
   "source": [
    "#### Who was the most popular artist?"
   ]
  },
  {
   "cell_type": "code",
   "execution_count": 387,
   "id": "f681092b",
   "metadata": {},
   "outputs": [
    {
     "name": "stdout",
     "output_type": "stream",
     "text": [
      "- Artists with more hits in the top 50:\n",
      "\n",
      " Billie Eilish    3\n",
      "Dua Lipa         3\n",
      "Travis Scott     3\n"
     ]
    }
   ],
   "source": [
    "max_size = artist_hits.max()\n",
    "\n",
    "print_function(\n",
    "    \"Artists with more hits in the top 50\",\n",
    "    artist_hits[artist_hits == max_size],\n",
    "    newline=True,\n",
    ")"
   ]
  },
  {
   "cell_type": "code",
   "execution_count": 388,
   "id": "70040c64",
   "metadata": {},
   "outputs": [],
   "source": [
    "%%capture\n",
    "\n",
    "# Plotting different weighting functions for ranks\n",
    "\n",
    "ranks = spotify.loc[:, \"rank\"].values\n",
    "\n",
    "# Different types of weights\n",
    "inverse_weights = 1 / ranks\n",
    "exponential_weights = np.exp(-0.05 * ranks)  # decay rate can be adjusted\n",
    "logarithmic_weights = 1 / np.log2(ranks + 1)\n",
    "\n",
    "# Plotting\n",
    "plt.figure(figsize=(10, 6))\n",
    "plt.plot(ranks, inverse_weights, label=\"Inverse Weight (1/rank)\", marker=\"o\")\n",
    "plt.plot(ranks, exponential_weights, label=\"Exponential Decay\", marker=\"x\")\n",
    "plt.plot(ranks, logarithmic_weights, label=\"Logarithmic Decay\", marker=\"^\")\n",
    "plt.title(\"Decay of Weights by Rank\")\n",
    "plt.xlabel(\"Rank\")\n",
    "plt.ylabel(\"Weight\")\n",
    "plt.grid(True)\n",
    "plt.legend()\n",
    "plt.xticks(ranks, rotation=90)\n",
    "plt.show()"
   ]
  },
  {
   "cell_type": "code",
   "execution_count": 389,
   "id": "e50797fd",
   "metadata": {},
   "outputs": [],
   "source": [
    "%%capture\n",
    "\n",
    "\n",
    "def most_popular(df: pd.DataFrame) -> str:\n",
    "    \"\"\"\n",
    "    Calculates the most popular artist in a DataFrame based on an exponential decay\n",
    "    ranking weighting and the number of times each artist appears (hits).\n",
    "\n",
    "    Parameters:\n",
    "        df (pd.DataFrame): DataFrame containing at least 'artist' and the rankings\n",
    "        of artists in the DataFrame index.\n",
    "\n",
    "    Returns:\n",
    "        str: The name of the most popular artist based on the calculated score.\n",
    "    \"\"\"\n",
    "\n",
    "    # Weighting each ranking by an exponential decay with a rate of -0.05\n",
    "    df[\"weight\"] = np.exp(-0.05 * df.index)\n",
    "\n",
    "    # Grouping the weights by artist and summing them\n",
    "    weighted_scores = df.groupby(\"artist\")[\"weight\"].sum()\n",
    "\n",
    "    # Counting the number of tracks each artist has in the DataFrame\n",
    "    artist_tracks = df.groupby(\"artist\").size()\n",
    "\n",
    "    # Computing a final score by multiplying weighted scores by the number of hits\n",
    "    popularity_scores = weighted_scores * artist_tracks\n",
    "\n",
    "    # Normalizing the scores for easier interpretation (0 to 1)\n",
    "    max_popularity = popularity_scores.max()\n",
    "    normalized_scores = popularity_scores / max_popularity\n",
    "\n",
    "    df[\"popularity_score\"] = df[\"artist\"].map(normalized_scores)\n",
    "\n",
    "    del df[\"weight\"]\n",
    "\n",
    "    return df\n",
    "\n",
    "\n",
    "most_popular(spotify)\n",
    "\n",
    "# most_popular(spotify).sort_values(by='popularity_score', ascending=False)"
   ]
  },
  {
   "cell_type": "code",
   "execution_count": 390,
   "id": "8a2c3767",
   "metadata": {},
   "outputs": [
    {
     "name": "stdout",
     "output_type": "stream",
     "text": [
      "- Top 10 artists by new popularity score:\n",
      "\n",
      " Dua Lipa         1.000000\n",
      "Harry Styles     0.648277\n",
      "Lewis Capaldi    0.646020\n",
      "Billie Eilish    0.610262\n",
      "Justin Bieber    0.427754\n",
      "Post Malone      0.419631\n",
      "Travis Scott     0.344949\n",
      "The Weeknd       0.297169\n",
      "Tones And I      0.282676\n",
      "Roddy Ricch      0.268890\n",
      "\n",
      "\n",
      "- Most popular artist: Dua Lipa\n"
     ]
    }
   ],
   "source": [
    "print_function(\n",
    "    \"Top 10 artists by new popularity score\",\n",
    "    spotify.groupby(\"artist\")\n",
    "    .popularity_score.mean()\n",
    "    .sort_values(ascending=False)\n",
    "    .head(10),\n",
    "    newline=True,\n",
    "    end_space=True,\n",
    ")\n",
    "\n",
    "print_function(\n",
    "    \"Most popular artist\", spotify.artist[spotify.popularity_score.idxmax()]\n",
    ")"
   ]
  },
  {
   "cell_type": "markdown",
   "id": "c9cb1103",
   "metadata": {},
   "source": [
    "#### How many artists in total have their songs in the top 50?"
   ]
  },
  {
   "cell_type": "code",
   "execution_count": 391,
   "id": "e3095633",
   "metadata": {},
   "outputs": [
    {
     "name": "stdout",
     "output_type": "stream",
     "text": [
      "- Number of artists in the top 50: 40\n"
     ]
    }
   ],
   "source": [
    "print_function(\"Number of artists in the top 50\", artist_hits.index.size)"
   ]
  },
  {
   "cell_type": "markdown",
   "id": "7c6fb290",
   "metadata": {},
   "source": [
    "## 5. Popular albums"
   ]
  },
  {
   "cell_type": "markdown",
   "id": "8e42bc42",
   "metadata": {},
   "source": [
    "#### Are there any albums that have more than 1 popular track? If yes, which and how many?"
   ]
  },
  {
   "cell_type": "code",
   "execution_count": 392,
   "id": "9c4de532",
   "metadata": {},
   "outputs": [
    {
     "name": "stdout",
     "output_type": "stream",
     "text": [
      "- Albums with more than one hit in the Top 50:\n",
      "\n",
      " Future Nostalgia        3\n",
      "Changes                 2\n",
      "Fine Line               2\n",
      "Hollywood's Bleeding    2\n"
     ]
    }
   ],
   "source": [
    "album_popularity = spotify.groupby(\"album\").size() > 1\n",
    "\n",
    "print_function(\n",
    "    \"Albums with more than one hit in the Top 50\",\n",
    "    spotify.groupby(\"album\")\n",
    "    .size()[album_popularity]\n",
    "    .sort_values(ascending=False),\n",
    "    newline=True,\n",
    ")"
   ]
  },
  {
   "cell_type": "markdown",
   "id": "d6337a0c",
   "metadata": {},
   "source": [
    "#### How many ? "
   ]
  },
  {
   "cell_type": "code",
   "execution_count": 393,
   "id": "0582c997",
   "metadata": {},
   "outputs": [
    {
     "name": "stdout",
     "output_type": "stream",
     "text": [
      "- Number of albums with more than one hit in the Top 50: 4\n"
     ]
    }
   ],
   "source": [
    "print_function(\n",
    "    \"Number of albums with more than one hit in the Top 50\",\n",
    "    spotify.groupby(\"album\").size()[album_popularity].count(),\n",
    ")"
   ]
  },
  {
   "cell_type": "markdown",
   "id": "9c25b00c",
   "metadata": {},
   "source": [
    "#### How many albums in total have their songs in the top 50?"
   ]
  },
  {
   "cell_type": "code",
   "execution_count": 394,
   "id": "0d583d9d",
   "metadata": {},
   "outputs": [
    {
     "name": "stdout",
     "output_type": "stream",
     "text": [
      "- Number of albums in the Top 50: 45\n"
     ]
    }
   ],
   "source": [
    "print_function(\"Number of albums in the Top 50\", album_popularity.count())"
   ]
  },
  {
   "cell_type": "markdown",
   "id": "9cf88b04",
   "metadata": {},
   "source": [
    "## 6. Track features\n",
    "\n",
    "### 6.1 Danceability"
   ]
  },
  {
   "cell_type": "markdown",
   "id": "5093fae2",
   "metadata": {},
   "source": [
    "#### Which tracks have a danceability score above 0.7?"
   ]
  },
  {
   "cell_type": "code",
   "execution_count": 395,
   "id": "5b7466c5",
   "metadata": {},
   "outputs": [
    {
     "name": "stdout",
     "output_type": "stream",
     "text": [
      "- Tracks with danceability higher than 0.7:\n",
      "\n",
      " 27                WAP (feat. Megan Thee Stallion)  0.935\n",
      "2                                         The Box  0.896\n",
      "39                                        Ride It  0.880\n",
      "28                                    Sunday Best  0.878\n",
      "33               Supalonely (feat. Gus Dapperton)  0.862\n",
      "40                                     goosebumps  0.841\n",
      "49                                     SICKO MODE  0.834\n",
      "15                                   Toosie Slide  0.830\n",
      "1                                    Dance Monkey  0.825\n",
      "29                    Godzilla (feat. Juice WRLD)  0.808\n",
      "14                       Intentions (feat. Quavo)  0.806\n",
      "10                                           Tusa  0.803\n",
      "19                     Life Is Good (feat. Drake)  0.795\n",
      "4                                 Don't Start Now  0.793\n",
      "22                                    Breaking Me  0.789\n",
      "17                                         Say So  0.787\n",
      "3                           Roses - Imanbek Remix  0.785\n",
      "8                                         Falling  0.784\n",
      "38                                          Hawái  0.783\n",
      "13                                Blueberry Faygo  0.774\n",
      "20               Savage Love (Laxed - Siren Beat)  0.767\n",
      "18                                       Memories  0.764\n",
      "25                                       Señorita  0.759\n",
      "37  Sunflower - Spider-Man: Into the Spider-Verse  0.755\n",
      "32                                       Dynamite  0.746\n",
      "5                    ROCKSTAR (feat. Roddy Ricch)  0.746\n",
      "31                                 Break My Heart  0.730\n",
      "7                death bed (coffee for your head)  0.726\n",
      "41                      RITMO (Bad Boys For Life)  0.723\n",
      "42                                     THE SCOTTS  0.716\n",
      "24                            everything i wanted  0.704\n",
      "26                                        bad guy  0.701\n"
     ]
    }
   ],
   "source": [
    "high_danceability = spotify[\"danceability\"] > 0.7\n",
    "\n",
    "print_function(\n",
    "    \"Tracks with danceability higher than 0.7\",\n",
    "    spotify[[\"track_name\", \"danceability\"]]\n",
    "    .sort_values(by=\"danceability\", ascending=False)\n",
    "    .loc[high_danceability],\n",
    "    newline=True,\n",
    ")"
   ]
  },
  {
   "cell_type": "markdown",
   "id": "a4691a54",
   "metadata": {},
   "source": [
    "#### Which tracks have a danceability score below 0.4?"
   ]
  },
  {
   "cell_type": "code",
   "execution_count": 396,
   "id": "af2dfff8",
   "metadata": {},
   "outputs": [
    {
     "name": "stdout",
     "output_type": "stream",
     "text": [
      "- Tracks with danceability lower than 0.4:\n",
      "\n",
      " 44  lovely (with Khalid)  0.351\n"
     ]
    }
   ],
   "source": [
    "print_function(\n",
    "    \"Tracks with danceability lower than 0.4\",\n",
    "    spotify[[\"track_name\", \"danceability\"]][spotify.danceability < 0.4],\n",
    "    newline=True,\n",
    ")"
   ]
  },
  {
   "cell_type": "markdown",
   "id": "046b3d9d",
   "metadata": {},
   "source": [
    "### 6.2 Loudness"
   ]
  },
  {
   "cell_type": "markdown",
   "id": "f839aadc",
   "metadata": {},
   "source": [
    "#### Which tracks have their loudness higher -5?"
   ]
  },
  {
   "cell_type": "code",
   "execution_count": 397,
   "id": "bc1c1c69",
   "metadata": {},
   "outputs": [
    {
     "name": "stdout",
     "output_type": "stream",
     "text": [
      "- Tracks with loudness higher than -5:\n",
      "\n",
      " 10                                           Tusa -3.280\n",
      "40                                     goosebumps -3.370\n",
      "31                                 Break My Heart -3.434\n",
      "38                                          Hawái -3.454\n",
      "12                                        Circles -3.497\n",
      "23                         Mood (feat. iann dior) -3.558\n",
      "21                                      Adore You -3.675\n",
      "49                                     SICKO MODE -3.714\n",
      "48                                       Physical -3.756\n",
      "35                Rain On Me (with Ariana Grande) -3.764\n",
      "43                                        Safaera -4.074\n",
      "6                                Watermelon Sugar -4.209\n",
      "39                                        Ride It -4.258\n",
      "37  Sunflower - Spider-Man: Into the Spider-Verse -4.368\n",
      "32                                       Dynamite -4.410\n",
      "4                                 Don't Start Now -4.521\n",
      "17                                         Say So -4.577\n",
      "33               Supalonely (feat. Gus Dapperton) -4.746\n",
      "16                                  Before You Go -4.858\n"
     ]
    }
   ],
   "source": [
    "print_function(\n",
    "    \"Tracks with loudness higher than -5\",\n",
    "    spotify[[\"track_name\", \"loudness\"]]\n",
    "    .sort_values(by=\"loudness\", ascending=False)\n",
    "    .loc[spotify.loudness > -5],\n",
    "    newline=True,\n",
    ")"
   ]
  },
  {
   "cell_type": "markdown",
   "id": "438dc1d1",
   "metadata": {},
   "source": [
    "#### Which tracks have their loudness lower than -8?"
   ]
  },
  {
   "cell_type": "code",
   "execution_count": 398,
   "id": "c4e28fec",
   "metadata": {},
   "outputs": [
    {
     "name": "stdout",
     "output_type": "stream",
     "text": [
      "- Tracks with loudness lower than -8:\n",
      "\n",
      " 20                Savage Love (Laxed - Siren Beat)  -8.520\n",
      "8                                          Falling  -8.756\n",
      "36                             HIGHEST IN THE ROOM  -8.764\n",
      "7                 death bed (coffee for your head)  -8.765\n",
      "15                                    Toosie Slide  -8.820\n",
      "47  If the World Was Ending - feat. Julia Michaels -10.086\n",
      "44                            lovely (with Khalid) -10.109\n",
      "26                                         bad guy -10.965\n",
      "24                             everything i wanted -14.454\n"
     ]
    }
   ],
   "source": [
    "print_function(\n",
    "    \"Tracks with loudness lower than -8\",\n",
    "    spotify[[\"track_name\", \"loudness\"]]\n",
    "    .sort_values(by=\"loudness\", ascending=False)\n",
    "    .loc[spotify.loudness < -8],\n",
    "    newline=True,\n",
    ")"
   ]
  },
  {
   "cell_type": "markdown",
   "id": "115c3a1b",
   "metadata": {},
   "source": [
    "### 6.3 Length"
   ]
  },
  {
   "cell_type": "markdown",
   "id": "d9426ed5",
   "metadata": {},
   "source": [
    "#### Which track is the longest?"
   ]
  },
  {
   "cell_type": "code",
   "execution_count": 399,
   "id": "86ae3ad0",
   "metadata": {},
   "outputs": [
    {
     "name": "stdout",
     "output_type": "stream",
     "text": [
      "- Longest track:\n",
      "\n",
      " track_name       SICKO MODE\n",
      "duration_time         05:12\n"
     ]
    }
   ],
   "source": [
    "print_function(\n",
    "    \"Longest track\",\n",
    "    spotify[[\"track_name\", \"duration_time\"]].loc[spotify.duration_ms.idxmax()],\n",
    "    newline=True,\n",
    ")"
   ]
  },
  {
   "cell_type": "markdown",
   "id": "243e0dd3",
   "metadata": {},
   "source": [
    "#### Which track is the shortest?"
   ]
  },
  {
   "cell_type": "code",
   "execution_count": 400,
   "id": "0266000f",
   "metadata": {},
   "outputs": [
    {
     "name": "stdout",
     "output_type": "stream",
     "text": [
      "- Shortest track:\n",
      "\n",
      " track_name       Mood (feat. iann dior)\n",
      "duration_time                     02:20\n"
     ]
    }
   ],
   "source": [
    "print_function(\n",
    "    \"Shortest track\",\n",
    "    spotify[[\"track_name\", \"duration_time\"]].loc[spotify.duration_ms.idxmin()],\n",
    "    newline=True,\n",
    ")"
   ]
  },
  {
   "cell_type": "markdown",
   "id": "8b41247b",
   "metadata": {},
   "source": [
    "### 6.4 Track popularity"
   ]
  },
  {
   "cell_type": "markdown",
   "id": "8e1acc49",
   "metadata": {},
   "source": [
    "#### Which genre is the most popular?"
   ]
  },
  {
   "cell_type": "code",
   "execution_count": 401,
   "id": "d2a2a699",
   "metadata": {},
   "outputs": [
    {
     "name": "stdout",
     "output_type": "stream",
     "text": [
      "- Most popular genre: Pop\n"
     ]
    }
   ],
   "source": [
    "print_function(\n",
    "    \"Most popular genre\", spotify.genre[spotify.groupby(\"genre\").size().max()]\n",
    ")"
   ]
  },
  {
   "cell_type": "markdown",
   "id": "f99a9f27",
   "metadata": {},
   "source": [
    "#### Which genres have just one song on the top 50?"
   ]
  },
  {
   "cell_type": "code",
   "execution_count": 402,
   "id": "fbfb7c0f",
   "metadata": {},
   "outputs": [
    {
     "name": "stdout",
     "output_type": "stream",
     "text": [
      "- Genres with just one song in the top 50:\n",
      "\n",
      " Alternative/reggaeton/experimental    1\n",
      "Chamber pop                           1\n",
      "Dance-pop/Disco                       1\n",
      "Disco-pop                             1\n",
      "Dreampop/Hip-Hop/R&B                  1\n",
      "Hip-Hop/Trap                          1\n",
      "Nu-disco                              1\n",
      "Pop rap                               1\n",
      "Pop/Soft Rock                         1\n",
      "R&B/Hip-Hop alternative               1\n"
     ]
    }
   ],
   "source": [
    "print_function(\n",
    "    \"Genres with just one song in the top 50\",\n",
    "    spotify.groupby(\"genre\").size()[spotify.groupby(\"genre\").size() == 1],\n",
    "    newline=True,\n",
    ")"
   ]
  },
  {
   "cell_type": "markdown",
   "id": "5cac4449",
   "metadata": {},
   "source": [
    "#### How many genres in total are represented in the top 50?"
   ]
  },
  {
   "cell_type": "code",
   "execution_count": 403,
   "id": "db2ba772",
   "metadata": {},
   "outputs": [
    {
     "name": "stdout",
     "output_type": "stream",
     "text": [
      "- Number of genres represented in the top 50: 16\n"
     ]
    }
   ],
   "source": [
    "print_function(\n",
    "    \"Number of genres represented in the top 50\", spotify.genre.unique().size\n",
    ")"
   ]
  },
  {
   "cell_type": "markdown",
   "id": "fbb0a150",
   "metadata": {},
   "source": [
    "## 7. Correlations between features"
   ]
  },
  {
   "cell_type": "markdown",
   "id": "1f36811c",
   "metadata": {},
   "source": [
    "#### Which features are strongly positively correlated?"
   ]
  },
  {
   "cell_type": "code",
   "execution_count": 404,
   "id": "3d16da1e",
   "metadata": {},
   "outputs": [],
   "source": [
    "correlations = (\n",
    "    spotify.corr(numeric_only=True)\n",
    "    .stack()\n",
    "    .sort_values(ascending=False)\n",
    "    .drop_duplicates()\n",
    ")"
   ]
  },
  {
   "cell_type": "code",
   "execution_count": 405,
   "id": "78538df9",
   "metadata": {},
   "outputs": [
    {
     "name": "stdout",
     "output_type": "stream",
     "text": [
      "- Strongly positive correlated features:\n",
      "\n",
      " energy  loudness    0.79164\n"
     ]
    }
   ],
   "source": [
    "strong_pos_thresh = 0.5  # Arbitrary threshold\n",
    "\n",
    "print_function(\n",
    "    \"Strongly positive correlated features\",\n",
    "    correlations[(correlations >= strong_pos_thresh) & (correlations < 1)],\n",
    "    newline=True,\n",
    ")"
   ]
  },
  {
   "cell_type": "markdown",
   "id": "715a9901",
   "metadata": {},
   "source": [
    "#### Which features are strongly negatively correlated?"
   ]
  },
  {
   "cell_type": "code",
   "execution_count": 406,
   "id": "df7dcf5c",
   "metadata": {},
   "outputs": [
    {
     "name": "stdout",
     "output_type": "stream",
     "text": [
      "- Strongly negative correlated features:\n",
      "\n",
      " loudness      instrumentalness   -0.553735\n",
      "acousticness  energy             -0.682479\n"
     ]
    }
   ],
   "source": [
    "strong_neg_thresh = -0.5\n",
    "\n",
    "print_function(\n",
    "    \"Strongly negative correlated features\",\n",
    "    correlations[(correlations <= strong_neg_thresh)],\n",
    "    newline=True,\n",
    ")"
   ]
  },
  {
   "cell_type": "markdown",
   "id": "9afa626a",
   "metadata": {},
   "source": [
    "#### Which features are not correlated?"
   ]
  },
  {
   "cell_type": "code",
   "execution_count": 407,
   "id": "2a4101d5",
   "metadata": {},
   "outputs": [
    {
     "name": "stdout",
     "output_type": "stream",
     "text": [
      "- Not correlated features:\n",
      "\n",
      " rank              speechiness         0.095790\n",
      "duration_ms       energy              0.081971\n",
      "tempo             rank                0.081289\n",
      "key               tempo               0.080475\n",
      "popularity_score  loudness            0.077087\n",
      "energy            tempo               0.075191\n",
      "speechiness       energy              0.074267\n",
      "liveness          energy              0.069487\n",
      "duration_ms       loudness            0.064130\n",
      "energy            key                 0.062428\n",
      "speechiness       valence             0.053867\n",
      "valence           tempo               0.045089\n",
      "popularity_score  duration_ms         0.044085\n",
      "rank              loudness            0.034935\n",
      "energy            rank                0.030381\n",
      "instrumentalness  speechiness         0.028948\n",
      "energy            popularity_score    0.027652\n",
      "liveness          tempo               0.025457\n",
      "key               instrumentalness    0.020802\n",
      "instrumentalness  tempo               0.018853\n",
      "popularity_score  tempo               0.007766\n",
      "rank              instrumentalness   -0.003126\n",
      "duration_ms       key                -0.003345\n",
      "danceability      liveness           -0.006648\n",
      "key               loudness           -0.009178\n",
      "duration_ms       acousticness       -0.010988\n",
      "danceability      instrumentalness   -0.017706\n",
      "loudness          speechiness        -0.021693\n",
      "liveness          valence            -0.033366\n",
      "danceability      duration_ms        -0.033763\n",
      "valence           rank               -0.034159\n",
      "rank              acousticness       -0.036557\n",
      "duration_ms       valence            -0.039794\n",
      "key               rank               -0.052844\n",
      "liveness          rank               -0.063216\n",
      "loudness          liveness           -0.069939\n",
      "liveness          instrumentalness   -0.087034\n",
      "                  duration_ms        -0.090188\n",
      "key               speechiness        -0.094965\n"
     ]
    }
   ],
   "source": [
    "not_corr_thresh = 0.1\n",
    "\n",
    "print_function(\n",
    "    \"Not correlated features\",\n",
    "    correlations[(abs(correlations) < not_corr_thresh)],\n",
    "    newline=True,\n",
    ")"
   ]
  },
  {
   "cell_type": "code",
   "execution_count": 408,
   "id": "5bb4866f",
   "metadata": {},
   "outputs": [
    {
     "data": {
      "text/plain": [
       "<Axes: >"
      ]
     },
     "execution_count": 408,
     "metadata": {},
     "output_type": "execute_result"
    },
    {
     "data": {
      "image/png": "[encoded data removed]",
      "text/plain": [
       "<Figure size 640x480 with 2 Axes>"
      ]
     },
     "metadata": {},
     "output_type": "display_data"
    }
   ],
   "source": [
    "sns.heatmap(\n",
    "    spotify.corr(numeric_only=True), cmap=\"coolwarm\", center=0, vmin=-1, vmax=1\n",
    ")"
   ]
  },
  {
   "cell_type": "markdown",
   "id": "01b4f2b6",
   "metadata": {},
   "source": [
    "### Some comments regarding the correlations:\n",
    "\n",
    "1. Loudness is an objective measure, while energy is probably not. Does loudness cause a more energetic feel? Worth inquiring.\n",
    "2. lnstrumentalness, unsurprisingly, is negatively correlated with loudness. This may be because of the focus on textures and dynamism in more instrumental tracks. \n",
    "3. Note that energy does not have much to do with tempo, which explains why Hip-hop and Reggaeton tracks may feel very energetic besides their low tempo.\n",
    "\n",
    "These insights might help to curate playlists according to certain feelings or according to specific purposes. For example, a playlist for exercising might include tracks with greater loudness as it is a feature that might make people feel energic. The same might apply for playlists dedicated to study or focused work: people may get exhausted by repeatedly hearing loud tracks, and vocals might also be distracting, so less loud, instrumental tracks can make a good fit for these kind of playlists. "
   ]
  },
  {
   "cell_type": "markdown",
   "id": "1525b413",
   "metadata": {},
   "source": [
    "## 8. Descriptive statistics of Pop, Hip-Hop/Rap, Dance/Electronic, and Alternative/Indie genres"
   ]
  },
  {
   "cell_type": "markdown",
   "id": "598202be",
   "metadata": {},
   "source": [
    "### 8.1 Danceability distribution"
   ]
  },
  {
   "cell_type": "markdown",
   "id": "96fc222a",
   "metadata": {},
   "source": [
    "#### How does danceability compare between Pop, Hip-Hop/Rap, Dance/Electronic, and Alternative/Indie genres?"
   ]
  },
  {
   "cell_type": "code",
   "execution_count": 409,
   "id": "e7b33661",
   "metadata": {},
   "outputs": [],
   "source": [
    "selected_genres = [\n",
    "    \"Pop\",\n",
    "    \"Hip-Hop/Rap\",\n",
    "    \"Dance/Electronic\",\n",
    "    \"Alternative/Indie\",\n",
    "]\n",
    "\n",
    "# We'll create a new dataframe based on the selected genres to generate graphs\n",
    "\n",
    "spotify_filtered = spotify[spotify[\"genre\"].isin(selected_genres)]"
   ]
  },
  {
   "cell_type": "code",
   "execution_count": 410,
   "id": "8ae56958",
   "metadata": {},
   "outputs": [],
   "source": [
    "# We'll create a function for creating a boxplot, as we will use boxplots many times.\n",
    "\n",
    "\n",
    "def create_boxplot(\n",
    "    data: pd.DataFrame, by: str, column: str, title: str, ylabel: str\n",
    "):\n",
    "    \"\"\"\n",
    "    Calculates and plots the mean of a specified column\n",
    "    grouped by another column in the provided dataframe.\n",
    "\n",
    "    Parameters:\n",
    "        data (pd.DataFrame): The DataFrame containing the data to plot.\n",
    "        by (str): The column name in the DataFrame to group data by. \n",
    "        column (str): The numerical data column to plot.\n",
    "        title (str): The title of the boxplot.\n",
    "        ylabel (str): The label for the Y-axis.\n",
    "\n",
    "    Returns:\n",
    "        None: Does not return any value but shows a matplotlib plot.\n",
    "\n",
    "    \"\"\"\n",
    "    plt.figure(figsize=(10, 6), dpi=300)\n",
    "    data.boxplot(by=by, column=[column], grid=True)\n",
    "    plt.title(title)\n",
    "    plt.suptitle(\"\")  # Suppress the default title to clean up the plot\n",
    "    plt.xlabel(\"\\n\" + by)\n",
    "    plt.ylabel(ylabel + \"\\n\")\n",
    "    plt.show()"
   ]
  },
  {
   "cell_type": "code",
   "execution_count": 423,
   "id": "43c7acb8",
   "metadata": {},
   "outputs": [],
   "source": [
    "def mean_plot(\n",
    "    data: pd.DataFrame, by: str, column: str, title: str, ylabel: str\n",
    "):\n",
    "    \"\"\"\n",
    "    Calculates and plots the mean of a specified column\n",
    "    grouped by another column in the provided dataframe.\n",
    "\n",
    "    Parameters:\n",
    "        data (pd.DataFrame): The DataFrame containing the data to plot.\n",
    "        by (str): The column name to group the data by. \n",
    "        column (str): The numerical data column to be averaged.\n",
    "        title (str): The title of the plot.\n",
    "        ylabel (str): The label for the Y-axis.\n",
    "\n",
    "    Returns:\n",
    "        None: Does not return any value but shows a matplotlib plot.\n",
    "    \"\"\"\n",
    "    means = data.groupby(by)[column].mean()\n",
    "\n",
    "    # Creating a bar plot\n",
    "    plt.figure(figsize=(8, 4))\n",
    "    means.plot(kind=\"bar\", color=\"lightgreen\", width=0.6)\n",
    "    plt.title(title)\n",
    "    plt.xlabel(\"\\n\" + by)\n",
    "    plt.ylabel(ylabel + \"\\n\")\n",
    "    plt.xticks(rotation=0)\n",
    "    plt.tight_layout()\n",
    "    plt.grid(True, linestyle=\"--\", alpha=0.6)\n",
    "    plt.show()"
   ]
  },
  {
   "cell_type": "code",
   "execution_count": 412,
   "id": "79e35dbd",
   "metadata": {},
   "outputs": [
    {
     "data": {
      "text/html": [
       "<div>\n",
       "<style scoped>\n",
       "    .dataframe tbody tr th:only-of-type {\n",
       "        vertical-align: middle;\n",
       "    }\n",
       "\n",
       "    .dataframe tbody tr th {\n",
       "        vertical-align: top;\n",
       "    }\n",
       "\n",
       "    .dataframe thead th {\n",
       "        text-align: right;\n",
       "    }\n",
       "</style>\n",
       "<table border=\"1\" class=\"dataframe\">\n",
       "  <thead>\n",
       "    <tr style=\"text-align: right;\">\n",
       "      <th></th>\n",
       "      <th>count</th>\n",
       "      <th>mean</th>\n",
       "      <th>std</th>\n",
       "      <th>min</th>\n",
       "      <th>25%</th>\n",
       "      <th>50%</th>\n",
       "      <th>75%</th>\n",
       "      <th>max</th>\n",
       "    </tr>\n",
       "    <tr>\n",
       "      <th>genre</th>\n",
       "      <th></th>\n",
       "      <th></th>\n",
       "      <th></th>\n",
       "      <th></th>\n",
       "      <th></th>\n",
       "      <th></th>\n",
       "      <th></th>\n",
       "      <th></th>\n",
       "    </tr>\n",
       "  </thead>\n",
       "  <tbody>\n",
       "    <tr>\n",
       "      <th>Pop</th>\n",
       "      <td>14.0</td>\n",
       "      <td>0.677571</td>\n",
       "      <td>0.109853</td>\n",
       "      <td>0.464</td>\n",
       "      <td>0.61575</td>\n",
       "      <td>0.690</td>\n",
       "      <td>0.76275</td>\n",
       "      <td>0.806</td>\n",
       "    </tr>\n",
       "    <tr>\n",
       "      <th>Hip-Hop/Rap</th>\n",
       "      <td>13.0</td>\n",
       "      <td>0.765538</td>\n",
       "      <td>0.085470</td>\n",
       "      <td>0.598</td>\n",
       "      <td>0.72600</td>\n",
       "      <td>0.774</td>\n",
       "      <td>0.83000</td>\n",
       "      <td>0.896</td>\n",
       "    </tr>\n",
       "    <tr>\n",
       "      <th>Dance/Electronic</th>\n",
       "      <td>5.0</td>\n",
       "      <td>0.755000</td>\n",
       "      <td>0.094744</td>\n",
       "      <td>0.647</td>\n",
       "      <td>0.67400</td>\n",
       "      <td>0.785</td>\n",
       "      <td>0.78900</td>\n",
       "      <td>0.880</td>\n",
       "    </tr>\n",
       "    <tr>\n",
       "      <th>Alternative/Indie</th>\n",
       "      <td>4.0</td>\n",
       "      <td>0.661750</td>\n",
       "      <td>0.211107</td>\n",
       "      <td>0.459</td>\n",
       "      <td>0.49050</td>\n",
       "      <td>0.663</td>\n",
       "      <td>0.83425</td>\n",
       "      <td>0.862</td>\n",
       "    </tr>\n",
       "  </tbody>\n",
       "</table>\n",
       "</div>"
      ],
      "text/plain": [
       "                   count      mean       std    min      25%    50%      75%  \\\n",
       "genre                                                                          \n",
       "Pop                 14.0  0.677571  0.109853  0.464  0.61575  0.690  0.76275   \n",
       "Hip-Hop/Rap         13.0  0.765538  0.085470  0.598  0.72600  0.774  0.83000   \n",
       "Dance/Electronic     5.0  0.755000  0.094744  0.647  0.67400  0.785  0.78900   \n",
       "Alternative/Indie    4.0  0.661750  0.211107  0.459  0.49050  0.663  0.83425   \n",
       "\n",
       "                     max  \n",
       "genre                     \n",
       "Pop                0.806  \n",
       "Hip-Hop/Rap        0.896  \n",
       "Dance/Electronic   0.880  \n",
       "Alternative/Indie  0.862  "
      ]
     },
     "execution_count": 412,
     "metadata": {},
     "output_type": "execute_result"
    }
   ],
   "source": [
    "spotify.groupby(\"genre\").danceability.describe().loc[selected_genres]"
   ]
  },
  {
   "cell_type": "code",
   "execution_count": 413,
   "id": "540ce656",
   "metadata": {},
   "outputs": [
    {
     "data": {
      "image/png": "[encoded data removed]",
      "text/plain": [
       "<Figure size 800x400 with 1 Axes>"
      ]
     },
     "metadata": {},
     "output_type": "display_data"
    }
   ],
   "source": [
    "mean_plot(\n",
    "    spotify_filtered,\n",
    "    \"genre\",\n",
    "    \"danceability\",\n",
    "    \"Mean danceability by genre\",\n",
    "    \"Danceability\",\n",
    ")"
   ]
  },
  {
   "cell_type": "code",
   "execution_count": 414,
   "id": "8dd233d0",
   "metadata": {},
   "outputs": [
    {
     "data": {
      "text/plain": [
       "<Figure size 3000x1800 with 0 Axes>"
      ]
     },
     "metadata": {},
     "output_type": "display_data"
    },
    {
     "data": {
      "image/png": "[encoded data removed]",
      "text/plain": [
       "<Figure size 640x480 with 1 Axes>"
      ]
     },
     "metadata": {},
     "output_type": "display_data"
    }
   ],
   "source": [
    "create_boxplot(\n",
    "    spotify_filtered,\n",
    "    \"genre\",\n",
    "    \"danceability\",\n",
    "    \"Danceability distribution by genre\",\n",
    "    \"Danceability\",\n",
    ")"
   ]
  },
  {
   "cell_type": "markdown",
   "id": "75c938bc",
   "metadata": {},
   "source": [
    "#### Some insights about danceability distribution:\n",
    "\n",
    "1. Alternative/indie has the highest variability\n",
    "2. Hip-Hop and Dance have the greatest mean danceability\n",
    "3. Hip-hop has the highest danceability track"
   ]
  },
  {
   "cell_type": "markdown",
   "id": "9d6ed3ae",
   "metadata": {},
   "source": [
    "### 8.3 Loudness distribution"
   ]
  },
  {
   "cell_type": "markdown",
   "id": "3eeec204",
   "metadata": {},
   "source": [
    "#### How does the loudness score compare between Pop, Hip-Hop/Rap, Dance/Electronic, and Alternative/Indie genres?"
   ]
  },
  {
   "cell_type": "code",
   "execution_count": 415,
   "id": "90ed22ef",
   "metadata": {},
   "outputs": [
    {
     "data": {
      "text/html": [
       "<div>\n",
       "<style scoped>\n",
       "    .dataframe tbody tr th:only-of-type {\n",
       "        vertical-align: middle;\n",
       "    }\n",
       "\n",
       "    .dataframe tbody tr th {\n",
       "        vertical-align: top;\n",
       "    }\n",
       "\n",
       "    .dataframe thead th {\n",
       "        text-align: right;\n",
       "    }\n",
       "</style>\n",
       "<table border=\"1\" class=\"dataframe\">\n",
       "  <thead>\n",
       "    <tr style=\"text-align: right;\">\n",
       "      <th></th>\n",
       "      <th>count</th>\n",
       "      <th>mean</th>\n",
       "      <th>std</th>\n",
       "      <th>min</th>\n",
       "      <th>25%</th>\n",
       "      <th>50%</th>\n",
       "      <th>75%</th>\n",
       "      <th>max</th>\n",
       "    </tr>\n",
       "    <tr>\n",
       "      <th>genre</th>\n",
       "      <th></th>\n",
       "      <th></th>\n",
       "      <th></th>\n",
       "      <th></th>\n",
       "      <th></th>\n",
       "      <th></th>\n",
       "      <th></th>\n",
       "      <th></th>\n",
       "    </tr>\n",
       "  </thead>\n",
       "  <tbody>\n",
       "    <tr>\n",
       "      <th>Pop</th>\n",
       "      <td>14.0</td>\n",
       "      <td>-6.460357</td>\n",
       "      <td>3.014281</td>\n",
       "      <td>-14.454</td>\n",
       "      <td>-7.17875</td>\n",
       "      <td>-6.6445</td>\n",
       "      <td>-3.87525</td>\n",
       "      <td>-3.280</td>\n",
       "    </tr>\n",
       "    <tr>\n",
       "      <th>Hip-Hop/Rap</th>\n",
       "      <td>13.0</td>\n",
       "      <td>-6.917846</td>\n",
       "      <td>1.891808</td>\n",
       "      <td>-8.820</td>\n",
       "      <td>-8.52000</td>\n",
       "      <td>-7.6480</td>\n",
       "      <td>-5.61600</td>\n",
       "      <td>-3.370</td>\n",
       "    </tr>\n",
       "    <tr>\n",
       "      <th>Dance/Electronic</th>\n",
       "      <td>5.0</td>\n",
       "      <td>-5.338000</td>\n",
       "      <td>1.479047</td>\n",
       "      <td>-7.567</td>\n",
       "      <td>-5.65200</td>\n",
       "      <td>-5.4570</td>\n",
       "      <td>-4.25800</td>\n",
       "      <td>-3.756</td>\n",
       "    </tr>\n",
       "    <tr>\n",
       "      <th>Alternative/Indie</th>\n",
       "      <td>4.0</td>\n",
       "      <td>-5.421000</td>\n",
       "      <td>0.774502</td>\n",
       "      <td>-6.401</td>\n",
       "      <td>-5.85950</td>\n",
       "      <td>-5.2685</td>\n",
       "      <td>-4.83000</td>\n",
       "      <td>-4.746</td>\n",
       "    </tr>\n",
       "  </tbody>\n",
       "</table>\n",
       "</div>"
      ],
      "text/plain": [
       "                   count      mean       std     min      25%     50%  \\\n",
       "genre                                                                   \n",
       "Pop                 14.0 -6.460357  3.014281 -14.454 -7.17875 -6.6445   \n",
       "Hip-Hop/Rap         13.0 -6.917846  1.891808  -8.820 -8.52000 -7.6480   \n",
       "Dance/Electronic     5.0 -5.338000  1.479047  -7.567 -5.65200 -5.4570   \n",
       "Alternative/Indie    4.0 -5.421000  0.774502  -6.401 -5.85950 -5.2685   \n",
       "\n",
       "                       75%    max  \n",
       "genre                              \n",
       "Pop               -3.87525 -3.280  \n",
       "Hip-Hop/Rap       -5.61600 -3.370  \n",
       "Dance/Electronic  -4.25800 -3.756  \n",
       "Alternative/Indie -4.83000 -4.746  "
      ]
     },
     "execution_count": 415,
     "metadata": {},
     "output_type": "execute_result"
    }
   ],
   "source": [
    "spotify.groupby(\"genre\").loudness.describe().loc[selected_genres]"
   ]
  },
  {
   "cell_type": "code",
   "execution_count": 416,
   "id": "2f0c3cee",
   "metadata": {},
   "outputs": [
    {
     "data": {
      "image/png": "[encoded data removed]",
      "text/plain": [
       "<Figure size 800x400 with 1 Axes>"
      ]
     },
     "metadata": {},
     "output_type": "display_data"
    }
   ],
   "source": [
    "mean_plot(\n",
    "    spotify_filtered, \"genre\", \"loudness\", \"Mean loudness by genre\", \"Loudness\"\n",
    ")"
   ]
  },
  {
   "cell_type": "code",
   "execution_count": 417,
   "id": "67757a97",
   "metadata": {},
   "outputs": [
    {
     "data": {
      "text/plain": [
       "<Figure size 3000x1800 with 0 Axes>"
      ]
     },
     "metadata": {},
     "output_type": "display_data"
    },
    {
     "data": {
      "image/png": "[encoded data removed]",
      "text/plain": [
       "<Figure size 640x480 with 1 Axes>"
      ]
     },
     "metadata": {},
     "output_type": "display_data"
    }
   ],
   "source": [
    "create_boxplot(\n",
    "    spotify_filtered,\n",
    "    \"genre\",\n",
    "    \"loudness\",\n",
    "    \"Loudness distribution by genre\",\n",
    "    \"Loudness\",\n",
    ")"
   ]
  },
  {
   "cell_type": "markdown",
   "id": "985788b5",
   "metadata": {},
   "source": [
    "#### Some insights about loudness distribution:\n",
    "\n",
    "1. Dance and Alternative/indie are the loudest\n",
    "2. Pop has the greatest variability \n",
    "3. Pop has an outlier with the lowest loudness score"
   ]
  },
  {
   "cell_type": "code",
   "execution_count": 418,
   "id": "623fc8d7",
   "metadata": {},
   "outputs": [
    {
     "name": "stdout",
     "output_type": "stream",
     "text": [
      "- Who is the outlier?:\n",
      "\n",
      " artist              Billie Eilish\n",
      "track_name    everything i wanted\n"
     ]
    }
   ],
   "source": [
    "print_function(\n",
    "    \"Who is the outlier?\",\n",
    "    spotify[[\"artist\", \"track_name\"]].iloc[spotify_filtered.loudness.idxmin()],\n",
    "    newline=True,\n",
    ")"
   ]
  },
  {
   "cell_type": "markdown",
   "id": "34ff6b71",
   "metadata": {},
   "source": [
    "### 8.4 Acousticness distribution"
   ]
  },
  {
   "cell_type": "markdown",
   "id": "c35a8b63",
   "metadata": {},
   "source": [
    "#### How does acousticness compare between Pop, Hip-Hop/Rap, Dance/Electronic, and Alternative/Indie genres?"
   ]
  },
  {
   "cell_type": "code",
   "execution_count": 419,
   "id": "bfd3b567",
   "metadata": {},
   "outputs": [
    {
     "data": {
      "text/html": [
       "<div>\n",
       "<style scoped>\n",
       "    .dataframe tbody tr th:only-of-type {\n",
       "        vertical-align: middle;\n",
       "    }\n",
       "\n",
       "    .dataframe tbody tr th {\n",
       "        vertical-align: top;\n",
       "    }\n",
       "\n",
       "    .dataframe thead th {\n",
       "        text-align: right;\n",
       "    }\n",
       "</style>\n",
       "<table border=\"1\" class=\"dataframe\">\n",
       "  <thead>\n",
       "    <tr style=\"text-align: right;\">\n",
       "      <th></th>\n",
       "      <th>count</th>\n",
       "      <th>mean</th>\n",
       "      <th>std</th>\n",
       "      <th>min</th>\n",
       "      <th>25%</th>\n",
       "      <th>50%</th>\n",
       "      <th>75%</th>\n",
       "      <th>max</th>\n",
       "    </tr>\n",
       "    <tr>\n",
       "      <th>genre</th>\n",
       "      <th></th>\n",
       "      <th></th>\n",
       "      <th></th>\n",
       "      <th></th>\n",
       "      <th></th>\n",
       "      <th></th>\n",
       "      <th></th>\n",
       "      <th></th>\n",
       "    </tr>\n",
       "  </thead>\n",
       "  <tbody>\n",
       "    <tr>\n",
       "      <th>Pop</th>\n",
       "      <td>14.0</td>\n",
       "      <td>0.323843</td>\n",
       "      <td>0.318142</td>\n",
       "      <td>0.02100</td>\n",
       "      <td>0.05990</td>\n",
       "      <td>0.2590</td>\n",
       "      <td>0.34800</td>\n",
       "      <td>0.902</td>\n",
       "    </tr>\n",
       "    <tr>\n",
       "      <th>Hip-Hop/Rap</th>\n",
       "      <td>13.0</td>\n",
       "      <td>0.188741</td>\n",
       "      <td>0.186396</td>\n",
       "      <td>0.00513</td>\n",
       "      <td>0.06700</td>\n",
       "      <td>0.1450</td>\n",
       "      <td>0.23400</td>\n",
       "      <td>0.731</td>\n",
       "    </tr>\n",
       "    <tr>\n",
       "      <th>Dance/Electronic</th>\n",
       "      <td>5.0</td>\n",
       "      <td>0.099440</td>\n",
       "      <td>0.095828</td>\n",
       "      <td>0.01370</td>\n",
       "      <td>0.01490</td>\n",
       "      <td>0.0686</td>\n",
       "      <td>0.17700</td>\n",
       "      <td>0.223</td>\n",
       "    </tr>\n",
       "    <tr>\n",
       "      <th>Alternative/Indie</th>\n",
       "      <td>4.0</td>\n",
       "      <td>0.583500</td>\n",
       "      <td>0.204086</td>\n",
       "      <td>0.29100</td>\n",
       "      <td>0.52575</td>\n",
       "      <td>0.6460</td>\n",
       "      <td>0.70375</td>\n",
       "      <td>0.751</td>\n",
       "    </tr>\n",
       "  </tbody>\n",
       "</table>\n",
       "</div>"
      ],
      "text/plain": [
       "                   count      mean       std      min      25%     50%  \\\n",
       "genre                                                                    \n",
       "Pop                 14.0  0.323843  0.318142  0.02100  0.05990  0.2590   \n",
       "Hip-Hop/Rap         13.0  0.188741  0.186396  0.00513  0.06700  0.1450   \n",
       "Dance/Electronic     5.0  0.099440  0.095828  0.01370  0.01490  0.0686   \n",
       "Alternative/Indie    4.0  0.583500  0.204086  0.29100  0.52575  0.6460   \n",
       "\n",
       "                       75%    max  \n",
       "genre                              \n",
       "Pop                0.34800  0.902  \n",
       "Hip-Hop/Rap        0.23400  0.731  \n",
       "Dance/Electronic   0.17700  0.223  \n",
       "Alternative/Indie  0.70375  0.751  "
      ]
     },
     "execution_count": 419,
     "metadata": {},
     "output_type": "execute_result"
    }
   ],
   "source": [
    "spotify.groupby(\"genre\").acousticness.describe().loc[selected_genres]"
   ]
  },
  {
   "cell_type": "code",
   "execution_count": 420,
   "id": "613187e4",
   "metadata": {},
   "outputs": [
    {
     "data": {
      "image/png": "[encoded data removed]",
      "text/plain": [
       "<Figure size 800x400 with 1 Axes>"
      ]
     },
     "metadata": {},
     "output_type": "display_data"
    }
   ],
   "source": [
    "mean_plot(\n",
    "    spotify_filtered,\n",
    "    \"genre\",\n",
    "    \"acousticness\",\n",
    "    \"Mean acousticness by genre\",\n",
    "    \"Acousticness\",\n",
    ")"
   ]
  },
  {
   "cell_type": "code",
   "execution_count": 421,
   "id": "a27354d8",
   "metadata": {},
   "outputs": [
    {
     "data": {
      "text/plain": [
       "<Figure size 3000x1800 with 0 Axes>"
      ]
     },
     "metadata": {},
     "output_type": "display_data"
    },
    {
     "data": {
      "image/png": "[encoded data removed]",
      "text/plain": [
       "<Figure size 640x480 with 1 Axes>"
      ]
     },
     "metadata": {},
     "output_type": "display_data"
    }
   ],
   "source": [
    "create_boxplot(\n",
    "    spotify_filtered,\n",
    "    \"genre\",\n",
    "    \"acousticness\",\n",
    "    \"Acousticness distribution by genre\",\n",
    "    \"Acousticness\",\n",
    ")"
   ]
  },
  {
   "cell_type": "markdown",
   "id": "bfe76c16",
   "metadata": {},
   "source": [
    "#### Some insights about acousticness distribution:\n",
    "\n",
    "1. Alternative/indie has the greatest mean acousticness by far \n",
    "2. Pop has a lot of outliers\n",
    "3. Pop shows the greatest variability"
   ]
  },
  {
   "cell_type": "code",
   "execution_count": 422,
   "id": "df2d871d",
   "metadata": {},
   "outputs": [
    {
     "name": "stdout",
     "output_type": "stream",
     "text": [
      "- Who are the outliers?:\n",
      "\n",
      " 24  Billie Eilish                             everything i wanted                Pop\n",
      "47        JP Saxe  If the World Was Ending - feat. Julia Michaels                Pop\n",
      "18       Maroon 5                                        Memories                Pop\n",
      "9   Lewis Capaldi                               Someone You Loved  Alternative/Indie\n",
      "7           Powfu                death bed (coffee for your head)        Hip-Hop/Rap\n"
     ]
    }
   ],
   "source": [
    "print_function(\n",
    "    \"Who are the outliers?\",\n",
    "    spotify_filtered[[\"artist\", \"track_name\", \"genre\"]].loc[\n",
    "        spotify_filtered.sort_values(by=\"acousticness\", ascending=False)[\n",
    "            :5\n",
    "        ].index\n",
    "    ],\n",
    "    newline=True,\n",
    ")"
   ]
  }
 ],
 "metadata": {
  "kernelspec": {
   "display_name": "Python 3 (ipykernel)",
   "language": "python",
   "name": "python3"
  },
  "language_info": {
   "codemirror_mode": {
    "name": "ipython",
    "version": 3
   },
   "file_extension": ".py",
   "mimetype": "text/x-python",
   "name": "python",
   "nbconvert_exporter": "python",
   "pygments_lexer": "ipython3",
   "version": "3.11.5"
  }
 },
 "nbformat": 4,
 "nbformat_minor": 5
}
